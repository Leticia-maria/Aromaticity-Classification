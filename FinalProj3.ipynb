{
  "nbformat": 4,
  "nbformat_minor": 0,
  "metadata": {
    "colab": {
      "name": "FinalProj3.ipynb",
      "provenance": [],
      "collapsed_sections": [],
      "machine_shape": "hm",
      "authorship_tag": "ABX9TyPJcika6n7CtSSBjl/Or+bA",
      "include_colab_link": true
    },
    "kernelspec": {
      "name": "python3",
      "display_name": "Python 3"
    },
    "accelerator": "GPU"
  },
  "cells": [
    {
      "cell_type": "markdown",
      "metadata": {
        "id": "view-in-github",
        "colab_type": "text"
      },
      "source": [
        "<a href=\"https://colab.research.google.com/github/Conor-Luppnow/Aromaticity-Classification/blob/master/FinalProj3.ipynb\" target=\"_parent\"><img src=\"https://colab.research.google.com/assets/colab-badge.svg\" alt=\"Open In Colab\"/></a>"
      ]
    },
    {
      "cell_type": "code",
      "metadata": {
        "id": "GWQoIZOzY8O3",
        "colab_type": "code",
        "outputId": "df08d12a-63e6-4998-a360-10696f5f33a4",
        "colab": {
          "base_uri": "https://localhost:8080/",
          "height": 54
        }
      },
      "source": [
        "## Code to install necessary libraries and perform authorization\n",
        "\n",
        "\"\"\"\n",
        "When you run this code, you will be asked to authenticate which can be done by \n",
        "clicking the click outputed and copy pasting the access code. Sometime you have to do this couple of time to gain access\n",
        "\n",
        "If you ran this code after successful authentication during your session,\n",
        "when asked for verification code without any link to browser, enter your google password\n",
        "\"\"\"\n",
        "\n",
        "!apt-get install -y -qq software-properties-common python-software-properties module-init-tools\n",
        "!add-apt-repository -y ppa:alessandro-strada/ppa 2>&1 > /dev/null\n",
        "!apt-get update -qq 2>&1 > /dev/null\n",
        "!apt-get -y install -qq google-drive-ocamlfuse fuse\n",
        "from google.colab import auth\n",
        "auth.authenticate_user()\n",
        "from oauth2client.client import GoogleCredentials\n",
        "creds = GoogleCredentials.get_application_default()\n",
        "import getpass\n",
        "!google-drive-ocamlfuse -headless -id={creds.client_id} -secret={creds.client_secret} < /dev/null 2>&1 | grep URL\n",
        "vcode = getpass.getpass()\n",
        "!echo {vcode} | google-drive-ocamlfuse -headless -id={creds.client_id} -secret={creds.client_secret}\n"
      ],
      "execution_count": 1,
      "outputs": [
        {
          "output_type": "stream",
          "text": [
            "E: Package 'python-software-properties' has no installation candidate\n",
            "··········\n"
          ],
          "name": "stdout"
        }
      ]
    },
    {
      "cell_type": "code",
      "metadata": {
        "id": "OwSBUoBzdJXt",
        "colab_type": "code",
        "colab": {
          "base_uri": "https://localhost:8080/",
          "height": 54
        },
        "outputId": "ca119478-5d68-4cac-cd61-adce5ba2763e"
      },
      "source": [
        "## Mount google drive \n",
        "\n",
        "!mkdir -p drive \n",
        "!google-drive-ocamlfuse drive"
      ],
      "execution_count": 2,
      "outputs": [
        {
          "output_type": "stream",
          "text": [
            "fuse: mountpoint is not empty\n",
            "fuse: if you are sure this is safe, use the 'nonempty' mount option\n"
          ],
          "name": "stdout"
        }
      ]
    },
    {
      "cell_type": "code",
      "metadata": {
        "id": "m7DxzZQNdLYz",
        "colab_type": "code",
        "colab": {}
      },
      "source": [
        "## Create a folder called \"testing\"(any name you want )\n",
        "\n",
        "## Setting the working directory\n",
        "import os\n",
        "os.chdir(\"drive/Colab_Notebooks/Project3\")"
      ],
      "execution_count": 0,
      "outputs": []
    },
    {
      "cell_type": "code",
      "metadata": {
        "id": "MbRnOGbXdQxQ",
        "colab_type": "code",
        "outputId": "396f01fd-ed3d-4c2e-c265-b24f55d29a77",
        "colab": {
          "base_uri": "https://localhost:8080/",
          "height": 403
        }
      },
      "source": [
        "!pip install tensorflow-gpu==1.15"
      ],
      "execution_count": 4,
      "outputs": [
        {
          "output_type": "stream",
          "text": [
            "Requirement already satisfied: tensorflow-gpu==1.15 in /usr/local/lib/python3.6/dist-packages (1.15.0)\n",
            "Requirement already satisfied: wrapt>=1.11.1 in /usr/local/lib/python3.6/dist-packages (from tensorflow-gpu==1.15) (1.12.1)\n",
            "Requirement already satisfied: tensorboard<1.16.0,>=1.15.0 in /usr/local/lib/python3.6/dist-packages (from tensorflow-gpu==1.15) (1.15.0)\n",
            "Requirement already satisfied: termcolor>=1.1.0 in /usr/local/lib/python3.6/dist-packages (from tensorflow-gpu==1.15) (1.1.0)\n",
            "Requirement already satisfied: absl-py>=0.7.0 in /usr/local/lib/python3.6/dist-packages (from tensorflow-gpu==1.15) (0.9.0)\n",
            "Requirement already satisfied: six>=1.10.0 in /usr/local/lib/python3.6/dist-packages (from tensorflow-gpu==1.15) (1.12.0)\n",
            "Requirement already satisfied: google-pasta>=0.1.6 in /usr/local/lib/python3.6/dist-packages (from tensorflow-gpu==1.15) (0.2.0)\n",
            "Requirement already satisfied: opt-einsum>=2.3.2 in /usr/local/lib/python3.6/dist-packages (from tensorflow-gpu==1.15) (3.2.1)\n",
            "Requirement already satisfied: grpcio>=1.8.6 in /usr/local/lib/python3.6/dist-packages (from tensorflow-gpu==1.15) (1.28.1)\n",
            "Requirement already satisfied: gast==0.2.2 in /usr/local/lib/python3.6/dist-packages (from tensorflow-gpu==1.15) (0.2.2)\n",
            "Requirement already satisfied: keras-applications>=1.0.8 in /usr/local/lib/python3.6/dist-packages (from tensorflow-gpu==1.15) (1.0.8)\n",
            "Requirement already satisfied: tensorflow-estimator==1.15.1 in /usr/local/lib/python3.6/dist-packages (from tensorflow-gpu==1.15) (1.15.1)\n",
            "Requirement already satisfied: numpy<2.0,>=1.16.0 in /usr/local/lib/python3.6/dist-packages (from tensorflow-gpu==1.15) (1.18.3)\n",
            "Requirement already satisfied: wheel>=0.26 in /usr/local/lib/python3.6/dist-packages (from tensorflow-gpu==1.15) (0.34.2)\n",
            "Requirement already satisfied: astor>=0.6.0 in /usr/local/lib/python3.6/dist-packages (from tensorflow-gpu==1.15) (0.8.1)\n",
            "Requirement already satisfied: protobuf>=3.6.1 in /usr/local/lib/python3.6/dist-packages (from tensorflow-gpu==1.15) (3.10.0)\n",
            "Requirement already satisfied: keras-preprocessing>=1.0.5 in /usr/local/lib/python3.6/dist-packages (from tensorflow-gpu==1.15) (1.1.0)\n",
            "Requirement already satisfied: setuptools>=41.0.0 in /usr/local/lib/python3.6/dist-packages (from tensorboard<1.16.0,>=1.15.0->tensorflow-gpu==1.15) (46.1.3)\n",
            "Requirement already satisfied: markdown>=2.6.8 in /usr/local/lib/python3.6/dist-packages (from tensorboard<1.16.0,>=1.15.0->tensorflow-gpu==1.15) (3.2.1)\n",
            "Requirement already satisfied: werkzeug>=0.11.15 in /usr/local/lib/python3.6/dist-packages (from tensorboard<1.16.0,>=1.15.0->tensorflow-gpu==1.15) (1.0.1)\n",
            "Requirement already satisfied: h5py in /usr/local/lib/python3.6/dist-packages (from keras-applications>=1.0.8->tensorflow-gpu==1.15) (2.10.0)\n"
          ],
          "name": "stdout"
        }
      ]
    },
    {
      "cell_type": "code",
      "metadata": {
        "id": "6RN5uAvmdEQa",
        "colab_type": "code",
        "colab": {}
      },
      "source": [
        "\n",
        "import cv2                 \n",
        "                \n",
        "from random import shuffle \n",
        "from tqdm import tqdm      \n",
        "\n",
        "train_directory = '/content/drive/Colab_Notebooks/Project3/batch_2_train'\n",
        "IMG_SIZE = 300 # all my images are 300x300\n",
        "\n",
        "\n",
        "\n",
        "\n"
      ],
      "execution_count": 0,
      "outputs": []
    },
    {
      "cell_type": "code",
      "metadata": {
        "id": "Ely2-CsYMPZx",
        "colab_type": "code",
        "colab": {}
      },
      "source": [
        "def label_img(img):\n",
        "    #word_label = img.split('.')[-3] # all my names have \"ya.<cid> or na.<cid>\" where na is not aromatic and ya is aromatic, the CID is just a number from where I got the data\n",
        "    if \"na.\" in img: return [1,0]\n",
        "    #if word_label == 'na': return [1,0] # not aromatic\n",
        "    elif \"ya.\" in img: return[0,1]                       \n",
        "    #elif word_label == 'ya': return [0,1] # aromatic"
      ],
      "execution_count": 0,
      "outputs": []
    },
    {
      "cell_type": "code",
      "metadata": {
        "id": "aN8e0B-AMPcH",
        "colab_type": "code",
        "colab": {}
      },
      "source": [
        "def create_train_data():\n",
        "    training_data = []\n",
        "    try:\n",
        "      for img in tqdm(os.listdir(train_directory)):\n",
        "        label = label_img(img)\n",
        "        path = os.path.join(train_directory,img)\n",
        "        img = cv2.imread(path,cv2.IMREAD_GRAYSCALE)\n",
        "        img = cv2.resize(img, (IMG_SIZE,IMG_SIZE))\n",
        "        training_data.append([np.array(img),np.array(label)])\n",
        "    except Exception as e:\n",
        "        print(str(e))\n",
        "    shuffle(training_data)\n",
        "    np.save('train_data.npy', training_data)\n",
        "    return training_data\n",
        "\n",
        "    "
      ],
      "execution_count": 0,
      "outputs": []
    },
    {
      "cell_type": "code",
      "metadata": {
        "id": "iw2iAIeyMPeU",
        "colab_type": "code",
        "colab": {}
      },
      "source": [
        "import numpy as np"
      ],
      "execution_count": 0,
      "outputs": []
    },
    {
      "cell_type": "code",
      "metadata": {
        "id": "MenQVVI7MPjD",
        "colab_type": "code",
        "outputId": "41cdf5b2-dc02-4be2-b283-f193171766d5",
        "colab": {
          "base_uri": "https://localhost:8080/",
          "height": 35
        }
      },
      "source": [
        "train_data = create_train_data()\n"
      ],
      "execution_count": 0,
      "outputs": [
        {
          "output_type": "stream",
          "text": [
            "100%|██████████| 1217/1217 [07:58<00:00,  2.54it/s]\n"
          ],
          "name": "stderr"
        }
      ]
    },
    {
      "cell_type": "code",
      "metadata": {
        "id": "XCAmCpXvX1v1",
        "colab_type": "code",
        "colab": {}
      },
      "source": [
        "train_data = np.load('train_data.npy',allow_pickle=True)"
      ],
      "execution_count": 0,
      "outputs": []
    },
    {
      "cell_type": "code",
      "metadata": {
        "id": "7FCJUsHhpaHP",
        "colab_type": "code",
        "outputId": "ba1a8b59-09e1-4fd0-8fe3-b13000793df3",
        "colab": {
          "base_uri": "https://localhost:8080/",
          "height": 92
        }
      },
      "source": [
        "\n",
        "import tensorflow as tf\n",
        "from tensorflow.keras.layers import Conv2D, MaxPooling2D, Dense, Dropout, Flatten, Activation\n",
        "model = tf.keras.models.Sequential()\n",
        "\n",
        "model.add(Conv2D(32, kernel_size=5, padding=\"same\",input_shape=(300, 300, 1), activation = 'relu'))\n",
        "model.add(MaxPooling2D(pool_size=(2, 2), strides=(2, 2)))\n",
        "\n",
        "model.add(Conv2D(64, kernel_size=3, padding=\"same\", activation = 'relu'))\n",
        "model.add(Conv2D(128, kernel_size=3, padding=\"same\", activation = 'relu'))\n",
        "model.add(MaxPooling2D(pool_size=(2, 2), strides=(2, 2)))\n",
        "\n",
        "model.add(Conv2D(64, kernel_size=3, padding=\"valid\", activation = 'relu'))\n",
        "model.add(MaxPooling2D(pool_size=(2, 2), strides=(2, 2)))\n",
        "\n",
        "model.add(Conv2D(32, kernel_size=3, padding=\"valid\", activation = 'relu'))\n",
        "model.add(MaxPooling2D(pool_size=(2, 2), strides=(2, 2)))\n",
        "\n",
        "model.add(Flatten())\n",
        "model.add(Dense(units=512, activation='relu'  ))\n",
        "model.add(Dropout(0.1))\n",
        "\n",
        "model.add(Dense(units=256, activation='relu'  ))\n",
        "model.add(Dropout(0.1))\n",
        "\n",
        "model.add(Dense(2))\n",
        "model.add(Activation(\"softmax\"))\n"
      ],
      "execution_count": 9,
      "outputs": [
        {
          "output_type": "stream",
          "text": [
            "WARNING:tensorflow:From /usr/local/lib/python3.6/dist-packages/tensorflow_core/python/ops/resource_variable_ops.py:1630: calling BaseResourceVariable.__init__ (from tensorflow.python.ops.resource_variable_ops) with constraint is deprecated and will be removed in a future version.\n",
            "Instructions for updating:\n",
            "If using Keras pass *_constraint arguments to layers.\n"
          ],
          "name": "stdout"
        }
      ]
    },
    {
      "cell_type": "code",
      "metadata": {
        "id": "WCjSySpCxwG2",
        "colab_type": "code",
        "outputId": "ab6a3ed9-375d-4e20-e596-234b1e3c6eff",
        "colab": {
          "base_uri": "https://localhost:8080/",
          "height": 54
        }
      },
      "source": [
        "a= len(train_data)\n",
        "print(a)\n",
        "b = len(train_data)*.7\n",
        "print(b)"
      ],
      "execution_count": 29,
      "outputs": [
        {
          "output_type": "stream",
          "text": [
            "1217\n",
            "851.9\n"
          ],
          "name": "stdout"
        }
      ]
    },
    {
      "cell_type": "code",
      "metadata": {
        "id": "fpfcx9sKq4wz",
        "colab_type": "code",
        "colab": {}
      },
      "source": [
        "\n",
        "train = train_data[:970]\n",
        "test = train_data[971:]"
      ],
      "execution_count": 0,
      "outputs": []
    },
    {
      "cell_type": "code",
      "metadata": {
        "id": "XvMiCAycMlqp",
        "colab_type": "code",
        "outputId": "a9d61fad-cc92-4d32-a005-b1770cd6ad3f",
        "colab": {
          "base_uri": "https://localhost:8080/",
          "height": 35
        }
      },
      "source": [
        "X = np.array([i[0] for i in train]).reshape(-1,IMG_SIZE,IMG_SIZE,1)\n",
        "y = [i[1] for i in train]\n",
        "\n",
        "from keras.utils import to_categorical\n",
        "y=np.array(y)\n",
        "\n",
        "\n",
        "x_test = np.array([i[0] for i in test]).reshape(-1,IMG_SIZE,IMG_SIZE,1)\n",
        "y_test = [i[1] for i in test]\n",
        "\n",
        "y_test = np.array(y_test)\n",
        "\n"
      ],
      "execution_count": 11,
      "outputs": [
        {
          "output_type": "stream",
          "text": [
            "Using TensorFlow backend.\n"
          ],
          "name": "stderr"
        }
      ]
    },
    {
      "cell_type": "code",
      "metadata": {
        "id": "N-cNNYOtrL7Z",
        "colab_type": "code",
        "outputId": "185dac15-ab5b-458a-87c9-8ad62ed3f785",
        "colab": {
          "base_uri": "https://localhost:8080/",
          "height": 54
        }
      },
      "source": [
        "print(X.shape)\n",
        "print(y.shape)\n"
      ],
      "execution_count": 13,
      "outputs": [
        {
          "output_type": "stream",
          "text": [
            "(970, 300, 300, 1)\n",
            "(970, 2)\n"
          ],
          "name": "stdout"
        }
      ]
    },
    {
      "cell_type": "code",
      "metadata": {
        "id": "nYjB4dC5dv93",
        "colab_type": "code",
        "colab": {}
      },
      "source": [
        "from keras.callbacks import ModelCheckpoint\n",
        "# define the checkpoint\n",
        "filepath=\"weights-improvement-{epoch:02d}-{val_acc:.4f}.hdf5\"\n",
        "checkpoint = ModelCheckpoint(filepath, monitor='val_acc', verbose=1, save_best_only=True, mode='max')\n",
        "callbacks_list = [checkpoint]"
      ],
      "execution_count": 0,
      "outputs": []
    },
    {
      "cell_type": "code",
      "metadata": {
        "id": "eHP63TVQbavi",
        "colab_type": "code",
        "outputId": "96e907b5-71e2-4692-bfda-a49073105466",
        "colab": {
          "base_uri": "https://localhost:8080/",
          "height": 752
        }
      },
      "source": [
        "#Compile the model\n",
        "\n",
        "model.compile(optimizer='adam',\n",
        "              loss='categorical_crossentropy',\n",
        "              metrics=['accuracy'])\n",
        "\n",
        "model.summary()"
      ],
      "execution_count": 15,
      "outputs": [
        {
          "output_type": "stream",
          "text": [
            "Model: \"sequential\"\n",
            "_________________________________________________________________\n",
            "Layer (type)                 Output Shape              Param #   \n",
            "=================================================================\n",
            "conv2d (Conv2D)              (None, 300, 300, 32)      832       \n",
            "_________________________________________________________________\n",
            "max_pooling2d (MaxPooling2D) (None, 150, 150, 32)      0         \n",
            "_________________________________________________________________\n",
            "conv2d_1 (Conv2D)            (None, 150, 150, 64)      18496     \n",
            "_________________________________________________________________\n",
            "conv2d_2 (Conv2D)            (None, 150, 150, 128)     73856     \n",
            "_________________________________________________________________\n",
            "max_pooling2d_1 (MaxPooling2 (None, 75, 75, 128)       0         \n",
            "_________________________________________________________________\n",
            "conv2d_3 (Conv2D)            (None, 73, 73, 64)        73792     \n",
            "_________________________________________________________________\n",
            "max_pooling2d_2 (MaxPooling2 (None, 36, 36, 64)        0         \n",
            "_________________________________________________________________\n",
            "conv2d_4 (Conv2D)            (None, 34, 34, 32)        18464     \n",
            "_________________________________________________________________\n",
            "max_pooling2d_3 (MaxPooling2 (None, 17, 17, 32)        0         \n",
            "_________________________________________________________________\n",
            "flatten (Flatten)            (None, 9248)              0         \n",
            "_________________________________________________________________\n",
            "dense (Dense)                (None, 512)               4735488   \n",
            "_________________________________________________________________\n",
            "dropout (Dropout)            (None, 512)               0         \n",
            "_________________________________________________________________\n",
            "dense_1 (Dense)              (None, 256)               131328    \n",
            "_________________________________________________________________\n",
            "dropout_1 (Dropout)          (None, 256)               0         \n",
            "_________________________________________________________________\n",
            "dense_2 (Dense)              (None, 2)                 514       \n",
            "_________________________________________________________________\n",
            "activation (Activation)      (None, 2)                 0         \n",
            "=================================================================\n",
            "Total params: 5,052,770\n",
            "Trainable params: 5,052,770\n",
            "Non-trainable params: 0\n",
            "_________________________________________________________________\n"
          ],
          "name": "stdout"
        }
      ]
    },
    {
      "cell_type": "code",
      "metadata": {
        "id": "ZL0zxY5MdiNd",
        "colab_type": "code",
        "outputId": "00be56ef-3454-49f1-cc40-3d58c902817a",
        "colab": {
          "base_uri": "https://localhost:8080/",
          "height": 1000
        }
      },
      "source": [
        "#Input the training data and the validation data\n",
        "#Also save the history for looking at the model over epochs\n",
        "hist = model.fit(X, y, epochs=20, batch_size=60,verbose=1, validation_data = (x_test, y_test), validation_steps=5, callbacks=callbacks_list)"
      ],
      "execution_count": 17,
      "outputs": [
        {
          "output_type": "stream",
          "text": [
            "Train on 970 samples, validate on 246 samples\n",
            "Epoch 1/20\n",
            "960/970 [============================>.] - ETA: 0s - loss: 0.2584 - acc: 0.9125\n",
            "Epoch 00001: val_acc improved from -inf to 0.88618, saving model to weights-improvement-01-0.8862.hdf5\n",
            "970/970 [==============================] - 11s 12ms/sample - loss: 0.2586 - acc: 0.9124 - val_loss: 0.4036 - val_acc: 0.8862\n",
            "Epoch 2/20\n",
            "960/970 [============================>.] - ETA: 0s - loss: 0.0892 - acc: 0.9802\n",
            "Epoch 00002: val_acc improved from 0.88618 to 0.91463, saving model to weights-improvement-02-0.9146.hdf5\n",
            "970/970 [==============================] - 6s 7ms/sample - loss: 0.0883 - acc: 0.9804 - val_loss: 0.2950 - val_acc: 0.9146\n",
            "Epoch 3/20\n",
            "960/970 [============================>.] - ETA: 0s - loss: 0.0251 - acc: 0.9958\n",
            "Epoch 00003: val_acc improved from 0.91463 to 0.93496, saving model to weights-improvement-03-0.9350.hdf5\n",
            "970/970 [==============================] - 8s 9ms/sample - loss: 0.0248 - acc: 0.9959 - val_loss: 0.2698 - val_acc: 0.9350\n",
            "Epoch 4/20\n",
            "960/970 [============================>.] - ETA: 0s - loss: 0.0235 - acc: 0.9948\n",
            "Epoch 00004: val_acc did not improve from 0.93496\n",
            "970/970 [==============================] - 4s 4ms/sample - loss: 0.0233 - acc: 0.9948 - val_loss: 0.2441 - val_acc: 0.9228\n",
            "Epoch 5/20\n",
            "960/970 [============================>.] - ETA: 0s - loss: 0.0045 - acc: 0.9990\n",
            "Epoch 00005: val_acc did not improve from 0.93496\n",
            "970/970 [==============================] - 4s 4ms/sample - loss: 0.0044 - acc: 0.9990 - val_loss: 0.3946 - val_acc: 0.9106\n",
            "Epoch 6/20\n",
            "960/970 [============================>.] - ETA: 0s - loss: 0.0030 - acc: 0.9990\n",
            "Epoch 00006: val_acc did not improve from 0.93496\n",
            "970/970 [==============================] - 4s 4ms/sample - loss: 0.0029 - acc: 0.9990 - val_loss: 0.4536 - val_acc: 0.9065\n",
            "Epoch 7/20\n",
            "960/970 [============================>.] - ETA: 0s - loss: 0.0209 - acc: 0.9937\n",
            "Epoch 00007: val_acc did not improve from 0.93496\n",
            "970/970 [==============================] - 4s 4ms/sample - loss: 0.0207 - acc: 0.9938 - val_loss: 0.2863 - val_acc: 0.9187\n",
            "Epoch 8/20\n",
            "960/970 [============================>.] - ETA: 0s - loss: 0.0147 - acc: 0.9937\n",
            "Epoch 00008: val_acc did not improve from 0.93496\n",
            "970/970 [==============================] - 4s 4ms/sample - loss: 0.0145 - acc: 0.9938 - val_loss: 0.3408 - val_acc: 0.8984\n",
            "Epoch 9/20\n",
            "960/970 [============================>.] - ETA: 0s - loss: 0.0014 - acc: 1.0000\n",
            "Epoch 00009: val_acc did not improve from 0.93496\n",
            "970/970 [==============================] - 4s 4ms/sample - loss: 0.0014 - acc: 1.0000 - val_loss: 0.4761 - val_acc: 0.9228\n",
            "Epoch 10/20\n",
            "960/970 [============================>.] - ETA: 0s - loss: 8.1075e-04 - acc: 1.0000\n",
            "Epoch 00010: val_acc did not improve from 0.93496\n",
            "970/970 [==============================] - 4s 4ms/sample - loss: 8.0257e-04 - acc: 1.0000 - val_loss: 0.6026 - val_acc: 0.8943\n",
            "Epoch 11/20\n",
            "960/970 [============================>.] - ETA: 0s - loss: 0.0074 - acc: 0.9990\n",
            "Epoch 00011: val_acc did not improve from 0.93496\n",
            "970/970 [==============================] - 4s 4ms/sample - loss: 0.0074 - acc: 0.9990 - val_loss: 0.7089 - val_acc: 0.8862\n",
            "Epoch 12/20\n",
            "960/970 [============================>.] - ETA: 0s - loss: 0.0053 - acc: 0.9958\n",
            "Epoch 00012: val_acc did not improve from 0.93496\n",
            "970/970 [==============================] - 4s 4ms/sample - loss: 0.0053 - acc: 0.9959 - val_loss: 0.7972 - val_acc: 0.8821\n",
            "Epoch 13/20\n",
            "960/970 [============================>.] - ETA: 0s - loss: 0.0284 - acc: 0.9917\n",
            "Epoch 00013: val_acc did not improve from 0.93496\n",
            "970/970 [==============================] - 4s 4ms/sample - loss: 0.0319 - acc: 0.9907 - val_loss: 0.4362 - val_acc: 0.9146\n",
            "Epoch 14/20\n",
            "960/970 [============================>.] - ETA: 0s - loss: 0.0646 - acc: 0.9792\n",
            "Epoch 00014: val_acc did not improve from 0.93496\n",
            "970/970 [==============================] - 4s 4ms/sample - loss: 0.0642 - acc: 0.9794 - val_loss: 1.5597 - val_acc: 0.8659\n",
            "Epoch 15/20\n",
            "960/970 [============================>.] - ETA: 0s - loss: 0.0680 - acc: 0.9833\n",
            "Epoch 00015: val_acc did not improve from 0.93496\n",
            "970/970 [==============================] - 4s 4ms/sample - loss: 0.0673 - acc: 0.9835 - val_loss: 0.9432 - val_acc: 0.8618\n",
            "Epoch 16/20\n",
            "960/970 [============================>.] - ETA: 0s - loss: 0.0681 - acc: 0.9854\n",
            "Epoch 00016: val_acc did not improve from 0.93496\n",
            "970/970 [==============================] - 4s 4ms/sample - loss: 0.0689 - acc: 0.9845 - val_loss: 0.8739 - val_acc: 0.8577\n",
            "Epoch 17/20\n",
            "960/970 [============================>.] - ETA: 0s - loss: 0.0551 - acc: 0.9812\n",
            "Epoch 00017: val_acc did not improve from 0.93496\n",
            "970/970 [==============================] - 4s 4ms/sample - loss: 0.0546 - acc: 0.9814 - val_loss: 1.1052 - val_acc: 0.8984\n",
            "Epoch 18/20\n",
            "960/970 [============================>.] - ETA: 0s - loss: 0.0686 - acc: 0.9844\n",
            "Epoch 00018: val_acc did not improve from 0.93496\n",
            "970/970 [==============================] - 4s 4ms/sample - loss: 0.0679 - acc: 0.9845 - val_loss: 1.2693 - val_acc: 0.8699\n",
            "Epoch 19/20\n",
            "960/970 [============================>.] - ETA: 0s - loss: 0.0434 - acc: 0.9896\n",
            "Epoch 00019: val_acc did not improve from 0.93496\n",
            "970/970 [==============================] - 4s 4ms/sample - loss: 0.0431 - acc: 0.9897 - val_loss: 0.7075 - val_acc: 0.8943\n",
            "Epoch 20/20\n",
            "960/970 [============================>.] - ETA: 0s - loss: 0.0079 - acc: 0.9990\n",
            "Epoch 00020: val_acc did not improve from 0.93496\n",
            "970/970 [==============================] - 4s 4ms/sample - loss: 0.0078 - acc: 0.9990 - val_loss: 0.7348 - val_acc: 0.8821\n"
          ],
          "name": "stdout"
        }
      ]
    },
    {
      "cell_type": "code",
      "metadata": {
        "id": "dYe0EAwNkKUs",
        "colab_type": "code",
        "colab": {
          "base_uri": "https://localhost:8080/",
          "height": 513
        },
        "outputId": "f9657b2e-b542-45c7-8f4d-bd4e457794d5"
      },
      "source": [
        "import matplotlib.pyplot as plt\n",
        "\n",
        "#Plot the accuracy and loss over the epochs\n",
        "acc = hist.history['acc']\n",
        "val_acc = hist.history['val_acc']\n",
        "\n",
        "loss = hist.history['loss']\n",
        "val_loss = hist.history['val_loss']\n",
        "\n",
        "plt.figure(figsize=(8, 8))\n",
        "plt.subplot(2, 1, 1)\n",
        "plt.plot(acc, label='Training Accuracy')\n",
        "plt.plot(val_acc, label='Validation Accuracy')\n",
        "plt.legend(loc='upper right')\n",
        "plt.ylabel('Accuracy')\n",
        "plt.ylim([min(plt.ylim()),1])\n",
        "plt.title('Training and Validation Accuracy')\n",
        "\n",
        "plt.subplot(2, 1, 2)\n",
        "plt.plot(loss, label='Training Loss')\n",
        "plt.plot(val_loss, label='Validation Loss')\n",
        "plt.legend(loc='upper right')\n",
        "plt.ylabel('Cross Entropy')\n",
        "plt.ylim([0,9.0])\n",
        "plt.title('Training and Validation Loss')\n",
        "plt.xlabel('epoch')\n",
        "plt.show()\n",
        "\n"
      ],
      "execution_count": 39,
      "outputs": [
        {
          "output_type": "display_data",
          "data": {
            "image/png": "[encoded data removed]",
            "text/plain": [
              "<Figure size 576x576 with 2 Axes>"
            ]
          },
          "metadata": {
            "tags": [],
            "needs_background": "light"
          }
        }
      ]
    },
    {
      "cell_type": "code",
      "metadata": {
        "id": "Xzdy-jNyVlgZ",
        "colab_type": "code",
        "colab": {}
      },
      "source": [
        "weight_name = \"weights-improvement-02-0.9390.hdf5\"\n",
        "model.load_weights(weight_name)\n",
        "model.compile(optimizer='adam',\n",
        "              loss='categorical_crossentropy',\n",
        "              metrics=['accuracy'])"
      ],
      "execution_count": 0,
      "outputs": []
    },
    {
      "cell_type": "code",
      "metadata": {
        "id": "5OZv9DXbVmrG",
        "colab_type": "code",
        "colab": {}
      },
      "source": [
        ""
      ],
      "execution_count": 0,
      "outputs": []
    },
    {
      "cell_type": "code",
      "metadata": {
        "id": "ZcdcnChyMlsg",
        "colab_type": "code",
        "outputId": "da8d2581-dd64-4211-f9af-ffb161e581b1",
        "colab": {
          "base_uri": "https://localhost:8080/",
          "height": 72
        }
      },
      "source": [
        "val_loss, val_acc = model.evaluate(x_test, y_test)\n",
        "print(\"loss: \" + str(val_loss))\n",
        "print(\"accuracy: \" + str(val_acc))"
      ],
      "execution_count": 23,
      "outputs": [
        {
          "output_type": "stream",
          "text": [
            "246/246 [==============================] - 0s 976us/sample - loss: 0.7348 - acc: 0.8821\n",
            "loss: 0.7348478266863319\n",
            "accuracy: 0.8821138\n"
          ],
          "name": "stdout"
        }
      ]
    },
    {
      "cell_type": "code",
      "metadata": {
        "id": "5-0mOY1bQAvQ",
        "colab_type": "code",
        "outputId": "3a4c52c8-54d9-41c4-e30e-5dd9953d0f06",
        "colab": {
          "base_uri": "https://localhost:8080/",
          "height": 35
        }
      },
      "source": [
        "print(\"Done\")"
      ],
      "execution_count": 22,
      "outputs": [
        {
          "output_type": "stream",
          "text": [
            "Done\n"
          ],
          "name": "stdout"
        }
      ]
    },
    {
      "cell_type": "code",
      "metadata": {
        "id": "3-nlC0Y9TrKp",
        "colab_type": "code",
        "colab": {}
      },
      "source": [
        ""
      ],
      "execution_count": 0,
      "outputs": []
    }
  ]
}