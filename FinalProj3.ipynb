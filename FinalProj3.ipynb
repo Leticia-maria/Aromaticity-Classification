{
  "nbformat": 4,
  "nbformat_minor": 0,
  "metadata": {
    "colab": {
      "name": "FinalProj3.ipynb",
      "provenance": [],
      "collapsed_sections": [],
      "machine_shape": "hm",
      "authorship_tag": "ABX9TyNrFmwaJD3rUw+CaGFDUnB2",
      "include_colab_link": true
    },
    "kernelspec": {
      "name": "python3",
      "display_name": "Python 3"
    },
    "accelerator": "GPU"
  },
  "cells": [
    {
      "cell_type": "markdown",
      "metadata": {
        "id": "view-in-github",
        "colab_type": "text"
      },
      "source": [
        "<a href=\"https://colab.research.google.com/github/Conor-Luppnow/Aromaticity-Classification/blob/master/FinalProj3.ipynb\" target=\"_parent\"><img src=\"https://colab.research.google.com/assets/colab-badge.svg\" alt=\"Open In Colab\"/></a>"
      ]
    },
    {
      "cell_type": "code",
      "metadata": {
        "id": "GWQoIZOzY8O3",
        "colab_type": "code",
        "outputId": "8fd9c666-cd73-4d08-b34f-a6172a25c119",
        "colab": {
          "base_uri": "https://localhost:8080/",
          "height": 239
        }
      },
      "source": [
        "## Code to install necessary libraries and perform authorization\n",
        "\n",
        "\"\"\"\n",
        "When you run this code, you will be asked to authenticate which can be done by \n",
        "clicking the click outputed and copy pasting the access code. Sometime you have to do this couple of time to gain access\n",
        "\n",
        "If you ran this code after successful authentication during your session,\n",
        "when asked for verification code without any link to browser, enter your google password\n",
        "\"\"\"\n",
        "\n",
        "!apt-get install -y -qq software-properties-common python-software-properties module-init-tools\n",
        "!add-apt-repository -y ppa:alessandro-strada/ppa 2>&1 > /dev/null\n",
        "!apt-get update -qq 2>&1 > /dev/null\n",
        "!apt-get -y install -qq google-drive-ocamlfuse fuse\n",
        "from google.colab import auth\n",
        "auth.authenticate_user()\n",
        "from oauth2client.client import GoogleCredentials\n",
        "creds = GoogleCredentials.get_application_default()\n",
        "import getpass\n",
        "!google-drive-ocamlfuse -headless -id={creds.client_id} -secret={creds.client_secret} < /dev/null 2>&1 | grep URL\n",
        "vcode = getpass.getpass()\n",
        "!echo {vcode} | google-drive-ocamlfuse -headless -id={creds.client_id} -secret={creds.client_secret}\n"
      ],
      "execution_count": 1,
      "outputs": [
        {
          "output_type": "stream",
          "text": [
            "E: Package 'python-software-properties' has no installation candidate\n",
            "Selecting previously unselected package google-drive-ocamlfuse.\n",
            "(Reading database ... 144568 files and directories currently installed.)\n",
            "Preparing to unpack .../google-drive-ocamlfuse_0.7.21-0ubuntu1~ubuntu18.04.1_amd64.deb ...\n",
            "Unpacking google-drive-ocamlfuse (0.7.21-0ubuntu1~ubuntu18.04.1) ...\n",
            "Setting up google-drive-ocamlfuse (0.7.21-0ubuntu1~ubuntu18.04.1) ...\n",
            "Processing triggers for man-db (2.8.3-2ubuntu0.1) ...\n",
            "Please, open the following URL in a web browser: https://accounts.google.com/o/oauth2/auth?client_id=32555940559.apps.googleusercontent.com&redirect_uri=urn%3Aietf%3Awg%3Aoauth%3A2.0%3Aoob&scope=https%3A%2F%2Fwww.googleapis.com%2Fauth%2Fdrive&response_type=code&access_type=offline&approval_prompt=force\n",
            "··········\n",
            "Please, open the following URL in a web browser: https://accounts.google.com/o/oauth2/auth?client_id=32555940559.apps.googleusercontent.com&redirect_uri=urn%3Aietf%3Awg%3Aoauth%3A2.0%3Aoob&scope=https%3A%2F%2Fwww.googleapis.com%2Fauth%2Fdrive&response_type=code&access_type=offline&approval_prompt=force\n",
            "Please enter the verification code: Access token retrieved correctly.\n"
          ],
          "name": "stdout"
        }
      ]
    },
    {
      "cell_type": "code",
      "metadata": {
        "id": "OwSBUoBzdJXt",
        "colab_type": "code",
        "colab": {}
      },
      "source": [
        "## Mount google drive \n",
        "\n",
        "!mkdir -p drive \n",
        "!google-drive-ocamlfuse drive"
      ],
      "execution_count": 0,
      "outputs": []
    },
    {
      "cell_type": "code",
      "metadata": {
        "id": "m7DxzZQNdLYz",
        "colab_type": "code",
        "colab": {}
      },
      "source": [
        "## Create a folder called \"testing\"(any name you want )\n",
        "\n",
        "## Setting the working directory\n",
        "import os\n",
        "os.chdir(\"drive/Colab_Notebooks/Project3\")"
      ],
      "execution_count": 0,
      "outputs": []
    },
    {
      "cell_type": "code",
      "metadata": {
        "id": "MbRnOGbXdQxQ",
        "colab_type": "code",
        "outputId": "421ef00b-fa92-4b73-cb78-3927137b1136",
        "colab": {
          "base_uri": "https://localhost:8080/",
          "height": 899
        }
      },
      "source": [
        "!pip install tensorflow-gpu==1.15"
      ],
      "execution_count": 4,
      "outputs": [
        {
          "output_type": "stream",
          "text": [
            "Collecting tensorflow-gpu==1.15\n",
            "\u001b[?25l  Downloading https://files.pythonhosted.org/packages/a5/ad/933140e74973fb917a194ab814785e7c23680ca5dee6d663a509fe9579b6/tensorflow_gpu-1.15.0-cp36-cp36m-manylinux2010_x86_64.whl (411.5MB)\n",
            "\u001b[K     |████████████████████████████████| 411.5MB 36kB/s \n",
            "\u001b[?25hCollecting tensorflow-estimator==1.15.1\n",
            "\u001b[?25l  Downloading https://files.pythonhosted.org/packages/de/62/2ee9cd74c9fa2fa450877847ba560b260f5d0fb70ee0595203082dafcc9d/tensorflow_estimator-1.15.1-py2.py3-none-any.whl (503kB)\n",
            "\u001b[K     |████████████████████████████████| 512kB 50.4MB/s \n",
            "\u001b[?25hRequirement already satisfied: opt-einsum>=2.3.2 in /usr/local/lib/python3.6/dist-packages (from tensorflow-gpu==1.15) (3.2.1)\n",
            "Requirement already satisfied: termcolor>=1.1.0 in /usr/local/lib/python3.6/dist-packages (from tensorflow-gpu==1.15) (1.1.0)\n",
            "Requirement already satisfied: wheel>=0.26 in /usr/local/lib/python3.6/dist-packages (from tensorflow-gpu==1.15) (0.34.2)\n",
            "Requirement already satisfied: keras-applications>=1.0.8 in /usr/local/lib/python3.6/dist-packages (from tensorflow-gpu==1.15) (1.0.8)\n",
            "Requirement already satisfied: wrapt>=1.11.1 in /usr/local/lib/python3.6/dist-packages (from tensorflow-gpu==1.15) (1.12.1)\n",
            "Requirement already satisfied: protobuf>=3.6.1 in /usr/local/lib/python3.6/dist-packages (from tensorflow-gpu==1.15) (3.10.0)\n",
            "Requirement already satisfied: absl-py>=0.7.0 in /usr/local/lib/python3.6/dist-packages (from tensorflow-gpu==1.15) (0.9.0)\n",
            "Collecting gast==0.2.2\n",
            "  Downloading https://files.pythonhosted.org/packages/4e/35/11749bf99b2d4e3cceb4d55ca22590b0d7c2c62b9de38ac4a4a7f4687421/gast-0.2.2.tar.gz\n",
            "Requirement already satisfied: six>=1.10.0 in /usr/local/lib/python3.6/dist-packages (from tensorflow-gpu==1.15) (1.12.0)\n",
            "Requirement already satisfied: astor>=0.6.0 in /usr/local/lib/python3.6/dist-packages (from tensorflow-gpu==1.15) (0.8.1)\n",
            "Requirement already satisfied: keras-preprocessing>=1.0.5 in /usr/local/lib/python3.6/dist-packages (from tensorflow-gpu==1.15) (1.1.0)\n",
            "Requirement already satisfied: numpy<2.0,>=1.16.0 in /usr/local/lib/python3.6/dist-packages (from tensorflow-gpu==1.15) (1.18.3)\n",
            "Requirement already satisfied: grpcio>=1.8.6 in /usr/local/lib/python3.6/dist-packages (from tensorflow-gpu==1.15) (1.28.1)\n",
            "Requirement already satisfied: google-pasta>=0.1.6 in /usr/local/lib/python3.6/dist-packages (from tensorflow-gpu==1.15) (0.2.0)\n",
            "Collecting tensorboard<1.16.0,>=1.15.0\n",
            "\u001b[?25l  Downloading https://files.pythonhosted.org/packages/1e/e9/d3d747a97f7188f48aa5eda486907f3b345cd409f0a0850468ba867db246/tensorboard-1.15.0-py3-none-any.whl (3.8MB)\n",
            "\u001b[K     |████████████████████████████████| 3.8MB 51.7MB/s \n",
            "\u001b[?25hRequirement already satisfied: h5py in /usr/local/lib/python3.6/dist-packages (from keras-applications>=1.0.8->tensorflow-gpu==1.15) (2.10.0)\n",
            "Requirement already satisfied: setuptools in /usr/local/lib/python3.6/dist-packages (from protobuf>=3.6.1->tensorflow-gpu==1.15) (46.1.3)\n",
            "Requirement already satisfied: markdown>=2.6.8 in /usr/local/lib/python3.6/dist-packages (from tensorboard<1.16.0,>=1.15.0->tensorflow-gpu==1.15) (3.2.1)\n",
            "Requirement already satisfied: werkzeug>=0.11.15 in /usr/local/lib/python3.6/dist-packages (from tensorboard<1.16.0,>=1.15.0->tensorflow-gpu==1.15) (1.0.1)\n",
            "Building wheels for collected packages: gast\n",
            "  Building wheel for gast (setup.py) ... \u001b[?25l\u001b[?25hdone\n",
            "  Created wheel for gast: filename=gast-0.2.2-cp36-none-any.whl size=7540 sha256=88abf8dc26ba919d64d886df7d8912bfd895b940e1e07b4703dd08765d978087\n",
            "  Stored in directory: /root/.cache/pip/wheels/5c/2e/7e/a1d4d4fcebe6c381f378ce7743a3ced3699feb89bcfbdadadd\n",
            "Successfully built gast\n",
            "\u001b[31mERROR: tensorflow 2.2.0rc3 has requirement gast==0.3.3, but you'll have gast 0.2.2 which is incompatible.\u001b[0m\n",
            "\u001b[31mERROR: tensorflow 2.2.0rc3 has requirement tensorboard<2.3.0,>=2.2.0, but you'll have tensorboard 1.15.0 which is incompatible.\u001b[0m\n",
            "\u001b[31mERROR: tensorflow 2.2.0rc3 has requirement tensorflow-estimator<2.3.0,>=2.2.0rc0, but you'll have tensorflow-estimator 1.15.1 which is incompatible.\u001b[0m\n",
            "\u001b[31mERROR: tensorflow-probability 0.10.0rc0 has requirement gast>=0.3.2, but you'll have gast 0.2.2 which is incompatible.\u001b[0m\n",
            "Installing collected packages: tensorflow-estimator, gast, tensorboard, tensorflow-gpu\n",
            "  Found existing installation: tensorflow-estimator 2.2.0\n",
            "    Uninstalling tensorflow-estimator-2.2.0:\n",
            "      Successfully uninstalled tensorflow-estimator-2.2.0\n",
            "  Found existing installation: gast 0.3.3\n",
            "    Uninstalling gast-0.3.3:\n",
            "      Successfully uninstalled gast-0.3.3\n",
            "  Found existing installation: tensorboard 2.2.1\n",
            "    Uninstalling tensorboard-2.2.1:\n",
            "      Successfully uninstalled tensorboard-2.2.1\n",
            "Successfully installed gast-0.2.2 tensorboard-1.15.0 tensorflow-estimator-1.15.1 tensorflow-gpu-1.15.0\n"
          ],
          "name": "stdout"
        }
      ]
    },
    {
      "cell_type": "code",
      "metadata": {
        "id": "6RN5uAvmdEQa",
        "colab_type": "code",
        "colab": {}
      },
      "source": [
        "\n",
        "import cv2                 \n",
        "                \n",
        "from random import shuffle \n",
        "from tqdm import tqdm      \n",
        "\n",
        "train_directory = '/content/drive/Colab_Notebooks/Project3/batch_2_train'\n",
        "IMG_SIZE = 300 # all my images are 300x300\n",
        "\n",
        "\n",
        "\n",
        "\n"
      ],
      "execution_count": 0,
      "outputs": []
    },
    {
      "cell_type": "code",
      "metadata": {
        "id": "Ely2-CsYMPZx",
        "colab_type": "code",
        "colab": {}
      },
      "source": [
        "def label_img(img):\n",
        "    word_label = img.split('.')[-3] # all my names have \"ya.<cid> or na.<cid>\" where na is not aromatic and ya is aromatic, the CID is just a number from where I got the data\n",
        "    \n",
        "    if word_label == 'na': return [1,0] # not aromatic\n",
        "                           \n",
        "    elif word_label == 'ya': return [0,1] # aromatic"
      ],
      "execution_count": 0,
      "outputs": []
    },
    {
      "cell_type": "code",
      "metadata": {
        "id": "aN8e0B-AMPcH",
        "colab_type": "code",
        "colab": {}
      },
      "source": [
        "def create_train_data():\n",
        "    training_data = []\n",
        "    for img in tqdm(os.listdir(train_directory)):\n",
        "        label = label_img(img)\n",
        "        path = os.path.join(train_directory,img)\n",
        "        img = cv2.imread(path,cv2.IMREAD_GRAYSCALE)\n",
        "        img = cv2.resize(img, (IMG_SIZE,IMG_SIZE))\n",
        "        training_data.append([np.array(img),np.array(label)])\n",
        "    shuffle(training_data)\n",
        "    np.save('train_data.npy', training_data)\n",
        "    return training_data"
      ],
      "execution_count": 0,
      "outputs": []
    },
    {
      "cell_type": "code",
      "metadata": {
        "id": "iw2iAIeyMPeU",
        "colab_type": "code",
        "colab": {}
      },
      "source": [
        "import numpy as np"
      ],
      "execution_count": 0,
      "outputs": []
    },
    {
      "cell_type": "code",
      "metadata": {
        "id": "MenQVVI7MPjD",
        "colab_type": "code",
        "outputId": "ede801bc-d471-4965-ca3f-484e33c42861",
        "colab": {
          "base_uri": "https://localhost:8080/",
          "height": 35
        }
      },
      "source": [
        "train_data = create_train_data()\n"
      ],
      "execution_count": 9,
      "outputs": [
        {
          "output_type": "stream",
          "text": [
            "100%|██████████| 1227/1227 [08:20<00:00,  2.45it/s]\n"
          ],
          "name": "stderr"
        }
      ]
    },
    {
      "cell_type": "code",
      "metadata": {
        "id": "7FCJUsHhpaHP",
        "colab_type": "code",
        "outputId": "1e3fab19-d85a-4b60-c2bc-f2f5593025ad",
        "colab": {
          "base_uri": "https://localhost:8080/",
          "height": 92
        }
      },
      "source": [
        "\n",
        "import tensorflow as tf\n",
        "from tensorflow.keras.layers import Conv2D, MaxPooling2D, Dense, Dropout, Flatten, Activation\n",
        "model = tf.keras.models.Sequential()\n",
        "\n",
        "model.add(Conv2D(32, kernel_size=5, padding=\"same\",input_shape=(300, 300, 1), activation = 'relu'))\n",
        "model.add(MaxPooling2D(pool_size=(2, 2), strides=(2, 2)))\n",
        "\n",
        "model.add(Conv2D(64, kernel_size=3, padding=\"same\", activation = 'relu'))\n",
        "model.add(Conv2D(128, kernel_size=3, padding=\"same\", activation = 'relu'))\n",
        "model.add(MaxPooling2D(pool_size=(2, 2), strides=(2, 2)))\n",
        "\n",
        "model.add(Conv2D(64, kernel_size=3, padding=\"valid\", activation = 'relu'))\n",
        "model.add(MaxPooling2D(pool_size=(2, 2), strides=(2, 2)))\n",
        "\n",
        "model.add(Conv2D(32, kernel_size=3, padding=\"valid\", activation = 'relu'))\n",
        "model.add(MaxPooling2D(pool_size=(2, 2), strides=(2, 2)))\n",
        "\n",
        "model.add(Flatten())\n",
        "model.add(Dense(units=512, activation='relu'  ))\n",
        "model.add(Dropout(0.1))\n",
        "\n",
        "model.add(Dense(units=256, activation='relu'  ))\n",
        "model.add(Dropout(0.1))\n",
        "\n",
        "model.add(Dense(2))\n",
        "model.add(Activation(\"softmax\"))\n"
      ],
      "execution_count": 10,
      "outputs": [
        {
          "output_type": "stream",
          "text": [
            "WARNING:tensorflow:From /usr/local/lib/python3.6/dist-packages/tensorflow_core/python/ops/resource_variable_ops.py:1630: calling BaseResourceVariable.__init__ (from tensorflow.python.ops.resource_variable_ops) with constraint is deprecated and will be removed in a future version.\n",
            "Instructions for updating:\n",
            "If using Keras pass *_constraint arguments to layers.\n"
          ],
          "name": "stdout"
        }
      ]
    },
    {
      "cell_type": "code",
      "metadata": {
        "id": "WCjSySpCxwG2",
        "colab_type": "code",
        "outputId": "faf25a82-2765-47b7-8eb5-2865423ad77e",
        "colab": {
          "base_uri": "https://localhost:8080/",
          "height": 54
        }
      },
      "source": [
        "a= len(train_data)\n",
        "print(a)\n",
        "b = len(train_data)*.7\n",
        "print(b)"
      ],
      "execution_count": 11,
      "outputs": [
        {
          "output_type": "stream",
          "text": [
            "1227\n",
            "858.9\n"
          ],
          "name": "stdout"
        }
      ]
    },
    {
      "cell_type": "code",
      "metadata": {
        "id": "nZOGpHPvB3eG",
        "colab_type": "code",
        "colab": {}
      },
      "source": [
        ""
      ],
      "execution_count": 0,
      "outputs": []
    },
    {
      "cell_type": "code",
      "metadata": {
        "id": "fpfcx9sKq4wz",
        "colab_type": "code",
        "colab": {}
      },
      "source": [
        "train = train_data[:920]\n",
        "test = train_data[921:]"
      ],
      "execution_count": 0,
      "outputs": []
    },
    {
      "cell_type": "code",
      "metadata": {
        "id": "XvMiCAycMlqp",
        "colab_type": "code",
        "colab": {}
      },
      "source": [
        "X = np.array([i[0] for i in train]).reshape(-1,IMG_SIZE,IMG_SIZE,1)\n",
        "Y = [i[1] for i in train]\n",
        "\n",
        "\n",
        "Y=np.array(Y)\n",
        "\n",
        "x_test = np.array([i[0] for i in test]).reshape(-1,IMG_SIZE,IMG_SIZE,1)\n",
        "y_test = [i[1] for i in test]\n",
        "\n",
        "y_test = np.array(y_test)\n"
      ],
      "execution_count": 0,
      "outputs": []
    },
    {
      "cell_type": "code",
      "metadata": {
        "id": "N-cNNYOtrL7Z",
        "colab_type": "code",
        "outputId": "da7bec9b-758b-4309-f044-292a3464533b",
        "colab": {
          "base_uri": "https://localhost:8080/",
          "height": 35
        }
      },
      "source": [
        "print(X.shape)"
      ],
      "execution_count": 14,
      "outputs": [
        {
          "output_type": "stream",
          "text": [
            "(920, 300, 300, 1)\n"
          ],
          "name": "stdout"
        }
      ]
    },
    {
      "cell_type": "code",
      "metadata": {
        "id": "nYjB4dC5dv93",
        "colab_type": "code",
        "colab": {}
      },
      "source": [
        "from keras.callbacks import ModelCheckpoint\n",
        "# define the checkpoint\n",
        "filepath=\"weights-improvement-{epoch:02d}-{val_acc:.4f}.hdf5\"\n",
        "checkpoint = ModelCheckpoint(filepath, monitor='val_acc', verbose=1, save_best_only=True, mode='max')\n",
        "callbacks_list = [checkpoint]"
      ],
      "execution_count": 0,
      "outputs": []
    },
    {
      "cell_type": "code",
      "metadata": {
        "id": "eHP63TVQbavi",
        "colab_type": "code",
        "outputId": "d10a8626-7943-49be-aade-ca01b29c6905",
        "colab": {
          "base_uri": "https://localhost:8080/",
          "height": 752
        }
      },
      "source": [
        "#Compile the model\n",
        "\n",
        "model.compile(optimizer='adam',\n",
        "              loss='categorical_crossentropy',\n",
        "              metrics=['accuracy'])\n",
        "\n",
        "model.summary()"
      ],
      "execution_count": 32,
      "outputs": [
        {
          "output_type": "stream",
          "text": [
            "Model: \"sequential\"\n",
            "_________________________________________________________________\n",
            "Layer (type)                 Output Shape              Param #   \n",
            "=================================================================\n",
            "conv2d (Conv2D)              (None, 300, 300, 32)      832       \n",
            "_________________________________________________________________\n",
            "max_pooling2d (MaxPooling2D) (None, 150, 150, 32)      0         \n",
            "_________________________________________________________________\n",
            "conv2d_1 (Conv2D)            (None, 150, 150, 64)      18496     \n",
            "_________________________________________________________________\n",
            "conv2d_2 (Conv2D)            (None, 150, 150, 128)     73856     \n",
            "_________________________________________________________________\n",
            "max_pooling2d_1 (MaxPooling2 (None, 75, 75, 128)       0         \n",
            "_________________________________________________________________\n",
            "conv2d_3 (Conv2D)            (None, 73, 73, 64)        73792     \n",
            "_________________________________________________________________\n",
            "max_pooling2d_2 (MaxPooling2 (None, 36, 36, 64)        0         \n",
            "_________________________________________________________________\n",
            "conv2d_4 (Conv2D)            (None, 34, 34, 32)        18464     \n",
            "_________________________________________________________________\n",
            "max_pooling2d_3 (MaxPooling2 (None, 17, 17, 32)        0         \n",
            "_________________________________________________________________\n",
            "flatten (Flatten)            (None, 9248)              0         \n",
            "_________________________________________________________________\n",
            "dense (Dense)                (None, 512)               4735488   \n",
            "_________________________________________________________________\n",
            "dropout (Dropout)            (None, 512)               0         \n",
            "_________________________________________________________________\n",
            "dense_1 (Dense)              (None, 256)               131328    \n",
            "_________________________________________________________________\n",
            "dropout_1 (Dropout)          (None, 256)               0         \n",
            "_________________________________________________________________\n",
            "dense_2 (Dense)              (None, 2)                 514       \n",
            "_________________________________________________________________\n",
            "activation (Activation)      (None, 2)                 0         \n",
            "=================================================================\n",
            "Total params: 5,052,770\n",
            "Trainable params: 5,052,770\n",
            "Non-trainable params: 0\n",
            "_________________________________________________________________\n"
          ],
          "name": "stdout"
        }
      ]
    },
    {
      "cell_type": "code",
      "metadata": {
        "id": "ZL0zxY5MdiNd",
        "colab_type": "code",
        "outputId": "8249ad8c-142c-4d11-80b6-8c1a62fc9340",
        "colab": {
          "base_uri": "https://localhost:8080/",
          "height": 1000
        }
      },
      "source": [
        "#Input the training data and the validation data\n",
        "#Also save the history for looking at the model over epochs\n",
        "hist = model.fit(X, Y, epochs=20, batch_size=60,verbose=1, validation_data = (x_test, y_test), validation_steps=5, callbacks=callbacks_list)"
      ],
      "execution_count": 33,
      "outputs": [
        {
          "output_type": "stream",
          "text": [
            "Train on 920 samples, validate on 306 samples\n",
            "Epoch 1/20\n",
            "900/920 [============================>.] - ETA: 0s - loss: 0.1818 - acc: 0.9733\n",
            "Epoch 00001: val_acc improved from -inf to 0.62745, saving model to weights-improvement-01-0.6275.hdf5\n",
            "920/920 [==============================] - 7s 7ms/sample - loss: 0.1790 - acc: 0.9728 - val_loss: 4.8101 - val_acc: 0.6275\n",
            "Epoch 2/20\n",
            "900/920 [============================>.] - ETA: 0s - loss: 0.0815 - acc: 0.9800\n",
            "Epoch 00002: val_acc improved from 0.62745 to 0.65033, saving model to weights-improvement-02-0.6503.hdf5\n",
            "920/920 [==============================] - 7s 8ms/sample - loss: 0.0797 - acc: 0.9804 - val_loss: 6.7533 - val_acc: 0.6503\n",
            "Epoch 3/20\n",
            "900/920 [============================>.] - ETA: 0s - loss: 0.0729 - acc: 0.9911\n",
            "Epoch 00003: val_acc did not improve from 0.65033\n",
            "920/920 [==============================] - 4s 4ms/sample - loss: 0.0713 - acc: 0.9913 - val_loss: 4.5766 - val_acc: 0.6111\n",
            "Epoch 4/20\n",
            "900/920 [============================>.] - ETA: 0s - loss: 0.0182 - acc: 0.9933\n",
            "Epoch 00004: val_acc did not improve from 0.65033\n",
            "920/920 [==============================] - 4s 4ms/sample - loss: 0.0178 - acc: 0.9935 - val_loss: 4.5597 - val_acc: 0.6209\n",
            "Epoch 5/20\n",
            "900/920 [============================>.] - ETA: 0s - loss: 0.0025 - acc: 0.9989\n",
            "Epoch 00005: val_acc did not improve from 0.65033\n",
            "920/920 [==============================] - 4s 4ms/sample - loss: 0.0024 - acc: 0.9989 - val_loss: 4.6754 - val_acc: 0.6405\n",
            "Epoch 6/20\n",
            "900/920 [============================>.] - ETA: 0s - loss: 5.4830e-05 - acc: 1.0000\n",
            "Epoch 00006: val_acc did not improve from 0.65033\n",
            "920/920 [==============================] - 4s 4ms/sample - loss: 5.3649e-05 - acc: 1.0000 - val_loss: 4.7282 - val_acc: 0.6405\n",
            "Epoch 7/20\n",
            "900/920 [============================>.] - ETA: 0s - loss: 4.5772e-05 - acc: 1.0000\n",
            "Epoch 00007: val_acc did not improve from 0.65033\n",
            "920/920 [==============================] - 4s 4ms/sample - loss: 4.4778e-05 - acc: 1.0000 - val_loss: 4.8129 - val_acc: 0.6405\n",
            "Epoch 8/20\n",
            "900/920 [============================>.] - ETA: 0s - loss: 3.4714e-05 - acc: 1.0000\n",
            "Epoch 00008: val_acc did not improve from 0.65033\n",
            "920/920 [==============================] - 4s 4ms/sample - loss: 3.3959e-05 - acc: 1.0000 - val_loss: 4.8964 - val_acc: 0.6471\n",
            "Epoch 9/20\n",
            "900/920 [============================>.] - ETA: 0s - loss: 7.3512e-06 - acc: 1.0000\n",
            "Epoch 00009: val_acc did not improve from 0.65033\n",
            "920/920 [==============================] - 4s 4ms/sample - loss: 7.1947e-06 - acc: 1.0000 - val_loss: 4.9336 - val_acc: 0.6471\n",
            "Epoch 10/20\n",
            "900/920 [============================>.] - ETA: 0s - loss: 7.3338e-06 - acc: 1.0000\n",
            "Epoch 00010: val_acc did not improve from 0.65033\n",
            "920/920 [==============================] - 4s 4ms/sample - loss: 7.1789e-06 - acc: 1.0000 - val_loss: 4.9530 - val_acc: 0.6471\n",
            "Epoch 11/20\n",
            "900/920 [============================>.] - ETA: 0s - loss: 4.0151e-06 - acc: 1.0000\n",
            "Epoch 00011: val_acc did not improve from 0.65033\n",
            "920/920 [==============================] - 4s 4ms/sample - loss: 4.0030e-06 - acc: 1.0000 - val_loss: 5.0164 - val_acc: 0.6471\n",
            "Epoch 12/20\n",
            "900/920 [============================>.] - ETA: 0s - loss: 3.8452e-06 - acc: 1.0000\n",
            "Epoch 00012: val_acc did not improve from 0.65033\n",
            "920/920 [==============================] - 4s 4ms/sample - loss: 3.8427e-06 - acc: 1.0000 - val_loss: 5.0347 - val_acc: 0.6471\n",
            "Epoch 13/20\n",
            "900/920 [============================>.] - ETA: 0s - loss: 3.1205e-06 - acc: 1.0000\n",
            "Epoch 00013: val_acc did not improve from 0.65033\n",
            "920/920 [==============================] - 4s 4ms/sample - loss: 3.0565e-06 - acc: 1.0000 - val_loss: 5.0435 - val_acc: 0.6471\n",
            "Epoch 14/20\n",
            "900/920 [============================>.] - ETA: 0s - loss: 2.5406e-06 - acc: 1.0000\n",
            "Epoch 00014: val_acc did not improve from 0.65033\n",
            "920/920 [==============================] - 4s 4ms/sample - loss: 2.4858e-06 - acc: 1.0000 - val_loss: 5.0574 - val_acc: 0.6438\n",
            "Epoch 15/20\n",
            "900/920 [============================>.] - ETA: 0s - loss: 5.0002e-04 - acc: 1.0000\n",
            "Epoch 00015: val_acc improved from 0.65033 to 0.67320, saving model to weights-improvement-15-0.6732.hdf5\n",
            "920/920 [==============================] - 7s 7ms/sample - loss: 4.8916e-04 - acc: 1.0000 - val_loss: 5.8846 - val_acc: 0.6732\n",
            "Epoch 16/20\n",
            "900/920 [============================>.] - ETA: 0s - loss: 1.2367e-05 - acc: 1.0000\n",
            "Epoch 00016: val_acc did not improve from 0.67320\n",
            "920/920 [==============================] - 4s 4ms/sample - loss: 1.2113e-05 - acc: 1.0000 - val_loss: 6.2609 - val_acc: 0.6569\n",
            "Epoch 17/20\n",
            "900/920 [============================>.] - ETA: 0s - loss: 4.6659e-06 - acc: 1.0000\n",
            "Epoch 00017: val_acc did not improve from 0.67320\n",
            "920/920 [==============================] - 4s 4ms/sample - loss: 4.5646e-06 - acc: 1.0000 - val_loss: 6.3942 - val_acc: 0.6634\n",
            "Epoch 18/20\n",
            "900/920 [============================>.] - ETA: 0s - loss: 1.4113e-06 - acc: 1.0000\n",
            "Epoch 00018: val_acc did not improve from 0.67320\n",
            "920/920 [==============================] - 4s 4ms/sample - loss: 1.3821e-06 - acc: 1.0000 - val_loss: 6.3655 - val_acc: 0.6601\n",
            "Epoch 19/20\n",
            "900/920 [============================>.] - ETA: 0s - loss: 8.3814e-06 - acc: 1.0000\n",
            "Epoch 00019: val_acc did not improve from 0.67320\n",
            "920/920 [==============================] - 4s 4ms/sample - loss: 8.2001e-06 - acc: 1.0000 - val_loss: 6.3438 - val_acc: 0.6569\n",
            "Epoch 20/20\n",
            "900/920 [============================>.] - ETA: 0s - loss: 1.1685e-05 - acc: 1.0000\n",
            "Epoch 00020: val_acc did not improve from 0.67320\n",
            "920/920 [==============================] - 4s 4ms/sample - loss: 1.1431e-05 - acc: 1.0000 - val_loss: 6.2969 - val_acc: 0.6340\n"
          ],
          "name": "stdout"
        }
      ]
    },
    {
      "cell_type": "code",
      "metadata": {
        "id": "dYe0EAwNkKUs",
        "colab_type": "code",
        "outputId": "e7c9702f-6c4c-4b60-cc4e-4944068b8d13",
        "colab": {
          "base_uri": "https://localhost:8080/",
          "height": 513
        }
      },
      "source": [
        "import matplotlib.pyplot as plt\n",
        "\n",
        "#Plot the accuracy and loss over the epochs\n",
        "acc = hist.history['acc']\n",
        "val_acc = hist.history['val_acc']\n",
        "\n",
        "loss = hist.history['loss']\n",
        "val_loss = hist.history['val_loss']\n",
        "\n",
        "plt.figure(figsize=(8, 8))\n",
        "plt.subplot(2, 1, 1)\n",
        "plt.plot(acc, label='Training Accuracy')\n",
        "plt.plot(val_acc, label='Validation Accuracy')\n",
        "plt.legend(loc='upper right')\n",
        "plt.ylabel('Accuracy')\n",
        "plt.ylim([min(plt.ylim()),1])\n",
        "plt.title('Training and Validation Accuracy')\n",
        "\n",
        "plt.subplot(2, 1, 2)\n",
        "plt.plot(loss, label='Training Loss')\n",
        "plt.plot(val_loss, label='Validation Loss')\n",
        "plt.legend(loc='upper right')\n",
        "plt.ylabel('Cross Entropy')\n",
        "plt.ylim([0,9.0])\n",
        "plt.title('Training and Validation Loss')\n",
        "plt.xlabel('epoch')\n",
        "plt.show()\n",
        "\n"
      ],
      "execution_count": 34,
      "outputs": [
        {
          "output_type": "display_data",
          "data": {
            "image/png": "[encoded data removed]",
            "text/plain": [
              "<Figure size 576x576 with 2 Axes>"
            ]
          },
          "metadata": {
            "tags": [],
            "needs_background": "light"
          }
        }
      ]
    },
    {
      "cell_type": "code",
      "metadata": {
        "id": "Xzdy-jNyVlgZ",
        "colab_type": "code",
        "colab": {}
      },
      "source": [
        "weight_name = \"weights-improvement-15-0.6732.hdf5\"\n",
        "model.load_weights(weight_name)\n",
        "model.compile(optimizer='adam',\n",
        "              loss='categorical_crossentropy',\n",
        "              metrics=['accuracy'])"
      ],
      "execution_count": 0,
      "outputs": []
    },
    {
      "cell_type": "code",
      "metadata": {
        "id": "5OZv9DXbVmrG",
        "colab_type": "code",
        "colab": {}
      },
      "source": [
        ""
      ],
      "execution_count": 0,
      "outputs": []
    },
    {
      "cell_type": "code",
      "metadata": {
        "id": "ZcdcnChyMlsg",
        "colab_type": "code",
        "outputId": "9293fb80-7ea5-4bdb-9798-725a245213ac",
        "colab": {
          "base_uri": "https://localhost:8080/",
          "height": 72
        }
      },
      "source": [
        "val_loss, val_acc = model.evaluate(x_test, y_test)\n",
        "print(\"loss: \" + str(val_loss))\n",
        "print(\"accuracy: \" + str(val_acc))"
      ],
      "execution_count": 37,
      "outputs": [
        {
          "output_type": "stream",
          "text": [
            "306/306 [==============================] - 1s 2ms/sample - loss: 5.8846 - acc: 0.6732\n",
            "loss: 5.88464585784214\n",
            "accuracy: 0.67320263\n"
          ],
          "name": "stdout"
        }
      ]
    },
    {
      "cell_type": "code",
      "metadata": {
        "id": "5-0mOY1bQAvQ",
        "colab_type": "code",
        "colab": {
          "base_uri": "https://localhost:8080/",
          "height": 35
        },
        "outputId": "851c4ed2-9bd8-48eb-fae1-4e9844d971fd"
      },
      "source": [
        "print(\"Done\")"
      ],
      "execution_count": 60,
      "outputs": [
        {
          "output_type": "stream",
          "text": [
            "Done\n"
          ],
          "name": "stdout"
        }
      ]
    },
    {
      "cell_type": "code",
      "metadata": {
        "id": "3-nlC0Y9TrKp",
        "colab_type": "code",
        "colab": {}
      },
      "source": [
        ""
      ],
      "execution_count": 0,
      "outputs": []
    }
  ]
}